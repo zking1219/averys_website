{
 "cells": [
  {
   "cell_type": "markdown",
   "metadata": {},
   "source": [
    "# Mad Libs App"
   ]
  },
  {
   "cell_type": "code",
   "execution_count": 3,
   "metadata": {},
   "outputs": [
    {
     "name": "stdout",
     "output_type": "stream",
     "text": [
      "Hi Avery, build your Mad Libs App here\n"
     ]
    }
   ],
   "source": [
    "print(\"Hi Avery, build your Mad Libs App here\")"
   ]
  },
  {
   "cell_type": "code",
   "execution_count": 4,
   "metadata": {},
   "outputs": [
    {
     "name": "stdout",
     "output_type": "stream",
     "text": [
      "i like mad libs!\n"
     ]
    }
   ],
   "source": [
    "print(\"i like mad libs!\")"
   ]
  },
  {
   "cell_type": "code",
   "execution_count": 47,
   "metadata": {},
   "outputs": [
    {
     "name": "stdout",
     "output_type": "stream",
     "text": [
      "I need a proper noun (a person's name)\n"
     ]
    },
    {
     "name": "stdin",
     "output_type": "stream",
     "text": [
      " Mike Power\n"
     ]
    },
    {
     "name": "stdout",
     "output_type": "stream",
     "text": [
      "I need a noun\n"
     ]
    },
    {
     "name": "stdin",
     "output_type": "stream",
     "text": [
      " armpit\n"
     ]
    },
    {
     "name": "stdout",
     "output_type": "stream",
     "text": [
      "I need an adjective (feeling)\n"
     ]
    },
    {
     "name": "stdin",
     "output_type": "stream",
     "text": [
      " hungry\n"
     ]
    },
    {
     "name": "stdout",
     "output_type": "stream",
     "text": [
      "I need a verb\n"
     ]
    },
    {
     "name": "stdin",
     "output_type": "stream",
     "text": [
      " stir\n"
     ]
    },
    {
     "name": "stdout",
     "output_type": "stream",
     "text": [
      "I need an adjective (feeling)\n"
     ]
    },
    {
     "name": "stdin",
     "output_type": "stream",
     "text": [
      " mushy\n"
     ]
    },
    {
     "name": "stdout",
     "output_type": "stream",
     "text": [
      "I need an animal\n"
     ]
    },
    {
     "name": "stdin",
     "output_type": "stream",
     "text": [
      " crow\n"
     ]
    },
    {
     "name": "stdout",
     "output_type": "stream",
     "text": [
      "I need a verb\n"
     ]
    },
    {
     "name": "stdin",
     "output_type": "stream",
     "text": [
      " nap\n"
     ]
    },
    {
     "name": "stdout",
     "output_type": "stream",
     "text": [
      "I need a color\n"
     ]
    },
    {
     "name": "stdin",
     "output_type": "stream",
     "text": [
      " purple\n"
     ]
    },
    {
     "name": "stdout",
     "output_type": "stream",
     "text": [
      "I need a verb (ending in ing)\n"
     ]
    },
    {
     "name": "stdin",
     "output_type": "stream",
     "text": [
      " jumping\n"
     ]
    },
    {
     "name": "stdout",
     "output_type": "stream",
     "text": [
      "I need an adverb (ending in ly)\n"
     ]
    },
    {
     "name": "stdin",
     "output_type": "stream",
     "text": [
      " swimmingly\n"
     ]
    },
    {
     "name": "stdout",
     "output_type": "stream",
     "text": [
      "I need a number\n"
     ]
    },
    {
     "name": "stdin",
     "output_type": "stream",
     "text": [
      " 31435\n"
     ]
    },
    {
     "name": "stdout",
     "output_type": "stream",
     "text": [
      "I need a measure of time\n"
     ]
    },
    {
     "name": "stdin",
     "output_type": "stream",
     "text": [
      " years\n"
     ]
    },
    {
     "name": "stdout",
     "output_type": "stream",
     "text": [
      "I need a color\n"
     ]
    },
    {
     "name": "stdin",
     "output_type": "stream",
     "text": [
      " orange\n"
     ]
    },
    {
     "name": "stdout",
     "output_type": "stream",
     "text": [
      "I need an animal\n"
     ]
    },
    {
     "name": "stdin",
     "output_type": "stream",
     "text": [
      " chimp\n"
     ]
    },
    {
     "name": "stdout",
     "output_type": "stream",
     "text": [
      "I need a number\n"
     ]
    },
    {
     "name": "stdin",
     "output_type": "stream",
     "text": [
      " 9\n"
     ]
    },
    {
     "name": "stdout",
     "output_type": "stream",
     "text": [
      "I need a silly word\n"
     ]
    },
    {
     "name": "stdin",
     "output_type": "stream",
     "text": [
      " butterpants\n"
     ]
    },
    {
     "name": "stdout",
     "output_type": "stream",
     "text": [
      "I need a noun\n"
     ]
    },
    {
     "name": "stdin",
     "output_type": "stream",
     "text": [
      " cheese\n"
     ]
    },
    {
     "data": {
      "text/plain": [
       "'A Camping We Will Go!\\nThis weekend I am going camping with Mike Power. I packed my lantern, sleeping bag, and\\narmpit. I am so hungry to stir in a tent. I am mushy we\\nmight see a crow, they are kind of dangerous. We are going to hike, fish, and nap.\\nI have heard that the purple lake is great for jumping. Then we will\\nswimminglyhike through the forest for 31435 years. If I see a\\norange chimp while hiking, I am going to bring it home as a pet! At night we will tell\\n9 butterpants stories and roast cheese around the campfire!!\\n '"
      ]
     },
     "execution_count": 47,
     "metadata": {},
     "output_type": "execute_result"
    }
   ],
   "source": [
    "s = \"\"\"A Camping We Will Go!\n",
    "This weekend I am going camping with ________noun1________. I packed my lantern, sleeping bag, and\n",
    "______noun2__________. I am so _________adj1_______ to _____verb1___________ in a tent. I am ______adj2__________ we\n",
    "might see a _______animal1_________, they are kind of dangerous. We are going to hike, fish, and ______verb2__________.\n",
    "I have heard that the _____color1___________ lake is great for _______verb3_________. Then we will\n",
    "______adv1__________hike through the forest for _______num1_________ _____mot1___________. If I see a\n",
    "_______color2_________ _______animal2_________ while hiking, I am going to bring it home as a pet! At night we will tell\n",
    "________num2________ _______sw1________ stories and roast _______noun3_________ around the campfire!!\n",
    " \"\"\"\n",
    "\n",
    "print(\"I need a proper noun (a person's name)\")\n",
    "proper_noun = input()\n",
    "s = s.replace(\"________noun1________\", proper_noun)\n",
    "\n",
    "print(\"I need a noun\")\n",
    "noun = input()\n",
    "s = s.replace(\"______noun2__________\", noun)\n",
    "\n",
    "print(\"I need an adjective (feeling)\")\n",
    "adj = input()\n",
    "s = s.replace(\"_________adj1_______\", adj)\n",
    "\n",
    "print(\"I need a verb\")\n",
    "verb = input()\n",
    "s = s.replace(\"_____verb1___________\", verb)\n",
    "\n",
    "print(\"I need an adjective (feeling)\")\n",
    "adj = input()\n",
    "s = s.replace(\"______adj2__________\", adj)\n",
    "\n",
    "print(\"I need an animal\")\n",
    "animal = input()\n",
    "s = s.replace(\"_______animal1_________\", animal)\n",
    "\n",
    "print(\"I need a verb\")\n",
    "verb = input()\n",
    "s = s.replace(\"______verb2__________\", verb)\n",
    "\n",
    "print(\"I need a color\")\n",
    "color = input()\n",
    "s = s.replace(\"_____color1___________\", color)\n",
    "\n",
    "print(\"I need a verb (ending in ing)\")\n",
    "verb = input()\n",
    "s = s.replace(\"_______verb3_________\", verb)\n",
    "\n",
    "print(\"I need an adverb (ending in ly)\")\n",
    "adv = input()\n",
    "s = s.replace(\"______adv1__________\", adv)\n",
    "\n",
    "print(\"I need a number\")\n",
    "num = input()\n",
    "s = s.replace(\"_______num1_________\", num)\n",
    "\n",
    "print(\"I need a measure of time\")\n",
    "mot = input()\n",
    "s = s.replace(\"_____mot1___________\", mot)\n",
    "\n",
    "print(\"I need a color\")\n",
    "color = input()\n",
    "s = s.replace(\"_______color2_________\", color)\n",
    "\n",
    "print(\"I need an animal\")\n",
    "animal = input()\n",
    "s = s.replace(\"_______animal2_________\", animal)\n",
    "\n",
    "print(\"I need a number\")\n",
    "num = input()\n",
    "s = s.replace(\"________num2________\", num)\n",
    "\n",
    "print(\"I need a silly word\")\n",
    "sw = input()\n",
    "s = s.replace(\"_______sw1________\", sw)\n",
    "\n",
    "print(\"I need a noun\")\n",
    "noun = input()\n",
    "s = s.replace(\"_______noun3_________\", noun)\n",
    "s"
   ]
  },
  {
   "cell_type": "code",
   "execution_count": 56,
   "metadata": {},
   "outputs": [
    {
     "name": "stdout",
     "output_type": "stream",
     "text": [
      "I need a number)\n"
     ]
    },
    {
     "name": "stdin",
     "output_type": "stream",
     "text": [
      " 7\n"
     ]
    },
    {
     "name": "stdout",
     "output_type": "stream",
     "text": [
      "I need a measure of time\n"
     ]
    },
    {
     "name": "stdin",
     "output_type": "stream",
     "text": [
      " seconds\n"
     ]
    },
    {
     "name": "stdout",
     "output_type": "stream",
     "text": [
      "I need a mode of transportation\n"
     ]
    },
    {
     "name": "stdin",
     "output_type": "stream",
     "text": [
      " car\n"
     ]
    },
    {
     "name": "stdout",
     "output_type": "stream",
     "text": [
      "I need an adjective\n"
     ]
    },
    {
     "name": "stdin",
     "output_type": "stream",
     "text": [
      " furry\n"
     ]
    },
    {
     "name": "stdout",
     "output_type": "stream",
     "text": [
      "I need an adjective\n"
     ]
    },
    {
     "name": "stdin",
     "output_type": "stream",
     "text": [
      " rough\n"
     ]
    },
    {
     "name": "stdout",
     "output_type": "stream",
     "text": [
      "I need a noun\n"
     ]
    },
    {
     "name": "stdin",
     "output_type": "stream",
     "text": [
      " poop\n"
     ]
    },
    {
     "name": "stdout",
     "output_type": "stream",
     "text": [
      "I need a color\n"
     ]
    },
    {
     "name": "stdin",
     "output_type": "stream",
     "text": [
      " blue\n"
     ]
    },
    {
     "name": "stdout",
     "output_type": "stream",
     "text": [
      "I need a part of body\n"
     ]
    },
    {
     "name": "stdin",
     "output_type": "stream",
     "text": [
      " arm\n"
     ]
    },
    {
     "name": "stdout",
     "output_type": "stream",
     "text": [
      "I need a verb\n"
     ]
    },
    {
     "name": "stdin",
     "output_type": "stream",
     "text": [
      " run\n"
     ]
    },
    {
     "name": "stdout",
     "output_type": "stream",
     "text": [
      "I need a number\n"
     ]
    },
    {
     "name": "stdin",
     "output_type": "stream",
     "text": [
      " 50\n"
     ]
    },
    {
     "name": "stdout",
     "output_type": "stream",
     "text": [
      "I need a noun\n"
     ]
    },
    {
     "name": "stdin",
     "output_type": "stream",
     "text": [
      " potato\n"
     ]
    },
    {
     "name": "stdout",
     "output_type": "stream",
     "text": [
      "I need a noun\n"
     ]
    },
    {
     "name": "stdin",
     "output_type": "stream",
     "text": [
      " carrot\n"
     ]
    },
    {
     "name": "stdout",
     "output_type": "stream",
     "text": [
      "I need a part of body\n"
     ]
    },
    {
     "name": "stdin",
     "output_type": "stream",
     "text": [
      " leg\n"
     ]
    },
    {
     "name": "stdout",
     "output_type": "stream",
     "text": [
      "I need a verb\n"
     ]
    },
    {
     "name": "stdin",
     "output_type": "stream",
     "text": [
      " walk\n"
     ]
    },
    {
     "name": "stdout",
     "output_type": "stream",
     "text": [
      "I need a noun\n"
     ]
    },
    {
     "name": "stdin",
     "output_type": "stream",
     "text": [
      " butt\n"
     ]
    },
    {
     "name": "stdout",
     "output_type": "stream",
     "text": [
      "I need a adjective\n"
     ]
    },
    {
     "name": "stdin",
     "output_type": "stream",
     "text": [
      " hairy\n"
     ]
    },
    {
     "name": "stdout",
     "output_type": "stream",
     "text": [
      "I need a silly word\n"
     ]
    },
    {
     "name": "stdin",
     "output_type": "stream",
     "text": [
      " hairy butt\n"
     ]
    },
    {
     "name": "stdout",
     "output_type": "stream",
     "text": [
      "I need a noun\n"
     ]
    },
    {
     "name": "stdin",
     "output_type": "stream",
     "text": [
      " book\n"
     ]
    },
    {
     "data": {
      "text/plain": [
       "'\\nMy Stay at the Hospital\\nIt was about 7 seconds ago when I came to the hospital in a car.\\nThe hospital is a/an furry place, there are a lot of rough poop.\\nThere are nurses here who have blue arm. If someone wants to come into my room\\nI told them that they have to run first. I have decorated my room with 50\\npotato. Today a doctor came into my room and they were wearing a carrot on their\\nleg. I heard that all doctors walk butt every day for breakfast. The\\nmost hairy thing about being in the hospital is the hairy butt book!\\n'"
      ]
     },
     "execution_count": 56,
     "metadata": {},
     "output_type": "execute_result"
    }
   ],
   "source": [
    "s2 = \"\"\"\n",
    "My Stay at the Hospital\n",
    "It was about ______num1__________ _______mot1_________ ago when I came to the hospital in a _______mode of transport_________.\n",
    "The hospital is a/an _______adj1_________ place, there are a lot of _________adj2_______ ______noun1__________here.\n",
    "There are nurses here who have _____color1_________ ________pob1________. If someone wants to come into my room\n",
    "I told them that they have to ________verb1________ first. I have decorated my room with ________num2________\n",
    "_______noun2_________. Today a doctor came into my room and they were wearing a _______noun3_________ on their\n",
    "_______pob2_________. I heard that all doctors _______verb2_________ _______noun4_________ every day for breakfast. The\n",
    "most _____adj3___________ thing about being in the hospital is the _________sw1_______ ________noun5________!\n",
    "\"\"\"\n",
    "\n",
    "\n",
    "print(\"I need a number)\")\n",
    "num = input()\n",
    "s2 = s2.replace(\"______num1__________\", num)\n",
    "\n",
    "print(\"I need a measure of time\")\n",
    "mot = input()\n",
    "s2 = s2.replace(\"_______mot1_________\", mot)\n",
    "\n",
    "print(\"I need a mode of transportation\")\n",
    "mot = input()\n",
    "s2 = s2.replace(\"_______mode of transport_________\", mot)\n",
    "\n",
    "print(\"I need an adjective\")\n",
    "adj = input()\n",
    "s2 = s2.replace(\"_______adj1_________\", adj)\n",
    "\n",
    "print(\"I need an adjective\")\n",
    "adj = input()\n",
    "s2 = s2.replace(\"_________adj2_______\", adj)\n",
    "\n",
    "print(\"I need a noun\")\n",
    "noun = input()\n",
    "s2 = s2.replace(\"______noun1__________here\", noun)\n",
    "\n",
    "print(\"I need a color\")\n",
    "col = input()\n",
    "s2 = s2.replace(\"_____color1_________\", col)\n",
    "\n",
    "print(\"I need a part of body\")\n",
    "pob = input()\n",
    "s2 = s2.replace(\"________pob1________\", pob)\n",
    "\n",
    "print(\"I need a verb\")\n",
    "verb = input()\n",
    "s2 = s2.replace(\"________verb1________\", verb)\n",
    "\n",
    "print(\"I need a number\")\n",
    "num = input()\n",
    "s2 = s2.replace(\"________num2________\", num)\n",
    "\n",
    "print(\"I need a noun\")\n",
    "noun = input()\n",
    "s2 = s2.replace(\"_______noun2_________\", noun)\n",
    "\n",
    "print(\"I need a noun\")\n",
    "noun = input()\n",
    "s2 = s2.replace(\"_______noun3_________\", noun)\n",
    "\n",
    "print(\"I need a part of body\")\n",
    "pob = input()\n",
    "s2 = s2.replace(\"_______pob2_________\", pob)\n",
    "\n",
    "print(\"I need a verb\")\n",
    "verb = input()\n",
    "s2 = s2.replace(\"_______verb2_________\", verb)\n",
    "\n",
    "print(\"I need a noun\")\n",
    "noun = input()\n",
    "s2 = s2.replace(\"_______noun4_________\", noun)\n",
    "\n",
    "print(\"I need a adjective\")\n",
    "adj = input()\n",
    "s2 = s2.replace(\"_____adj3___________\", adj)\n",
    "\n",
    "print(\"I need a silly word\")\n",
    "sw = input()\n",
    "s2 = s2.replace(\"_________sw1_______\", sw)\n",
    "\n",
    "print(\"I need a noun\")\n",
    "noun = input()\n",
    "#noun = \"potato\"\n",
    "s2 = s2.replace(\"________noun5________\", noun)\n",
    "s2\n",
    "\n",
    "\n",
    "\n"
   ]
  },
  {
   "cell_type": "code",
   "execution_count": 59,
   "metadata": {},
   "outputs": [
    {
     "name": "stdout",
     "output_type": "stream",
     "text": [
      "I need a proper noun\n"
     ]
    },
    {
     "name": "stdin",
     "output_type": "stream",
     "text": [
      " Lauren\n"
     ]
    },
    {
     "name": "stdout",
     "output_type": "stream",
     "text": [
      "I need an adjective\n"
     ]
    },
    {
     "name": "stdin",
     "output_type": "stream",
     "text": [
      " funny\n"
     ]
    },
    {
     "name": "stdout",
     "output_type": "stream",
     "text": [
      "I need a color\n"
     ]
    },
    {
     "name": "stdin",
     "output_type": "stream",
     "text": [
      " yellow\n"
     ]
    },
    {
     "name": "stdout",
     "output_type": "stream",
     "text": [
      "I need an animal\n"
     ]
    },
    {
     "name": "stdin",
     "output_type": "stream",
     "text": [
      " cat\n"
     ]
    },
    {
     "name": "stdout",
     "output_type": "stream",
     "text": [
      "I need a place\n"
     ]
    },
    {
     "name": "stdin",
     "output_type": "stream",
     "text": [
      " bed\n"
     ]
    },
    {
     "name": "stdout",
     "output_type": "stream",
     "text": [
      "I need an adjective\n"
     ]
    },
    {
     "name": "stdin",
     "output_type": "stream",
     "text": [
      " comfy\n"
     ]
    },
    {
     "name": "stdout",
     "output_type": "stream",
     "text": [
      "I need a Magical Creature (Plural)\n"
     ]
    },
    {
     "name": "stdin",
     "output_type": "stream",
     "text": [
      " duckies\n"
     ]
    },
    {
     "name": "stdout",
     "output_type": "stream",
     "text": [
      "I need an adjective\n"
     ]
    },
    {
     "name": "stdin",
     "output_type": "stream",
     "text": [
      " funny\n"
     ]
    },
    {
     "name": "stdout",
     "output_type": "stream",
     "text": [
      "I need a Magical Creature (Plural)\n"
     ]
    },
    {
     "name": "stdin",
     "output_type": "stream",
     "text": [
      " mikes\n"
     ]
    },
    {
     "name": "stdout",
     "output_type": "stream",
     "text": [
      "I need a room in a house\n"
     ]
    },
    {
     "name": "stdin",
     "output_type": "stream",
     "text": [
      " bedroom\n"
     ]
    },
    {
     "name": "stdout",
     "output_type": "stream",
     "text": [
      "I need a noun\n"
     ]
    },
    {
     "name": "stdin",
     "output_type": "stream",
     "text": [
      " yoga mat\\\n"
     ]
    },
    {
     "name": "stdout",
     "output_type": "stream",
     "text": [
      "I need a noun\n"
     ]
    },
    {
     "name": "stdin",
     "output_type": "stream",
     "text": [
      " wine\n"
     ]
    },
    {
     "name": "stdout",
     "output_type": "stream",
     "text": [
      "I need a noun\n"
     ]
    },
    {
     "name": "stdin",
     "output_type": "stream",
     "text": [
      " ice cream\n"
     ]
    },
    {
     "name": "stdout",
     "output_type": "stream",
     "text": [
      "I need a adjective\n"
     ]
    },
    {
     "name": "stdin",
     "output_type": "stream",
     "text": [
      " loud\n"
     ]
    },
    {
     "name": "stdout",
     "output_type": "stream",
     "text": [
      "I need a noun (plural)\n"
     ]
    },
    {
     "name": "stdin",
     "output_type": "stream",
     "text": [
      " cats\n"
     ]
    },
    {
     "name": "stdout",
     "output_type": "stream",
     "text": [
      "I need a number\n"
     ]
    },
    {
     "name": "stdin",
     "output_type": "stream",
     "text": [
      " 29\n"
     ]
    },
    {
     "name": "stdout",
     "output_type": "stream",
     "text": [
      "I need a Measure of time\n"
     ]
    },
    {
     "name": "stdin",
     "output_type": "stream",
     "text": [
      " years\n"
     ]
    },
    {
     "name": "stdout",
     "output_type": "stream",
     "text": [
      "I need a verb ending in ing\n"
     ]
    },
    {
     "name": "stdin",
     "output_type": "stream",
     "text": [
      " farting\n"
     ]
    },
    {
     "name": "stdout",
     "output_type": "stream",
     "text": [
      "I need a adjective\n"
     ]
    },
    {
     "name": "stdin",
     "output_type": "stream",
     "text": [
      " cookoo\n"
     ]
    },
    {
     "name": "stdout",
     "output_type": "stream",
     "text": [
      "I need a noun\n"
     ]
    },
    {
     "name": "stdin",
     "output_type": "stream",
     "text": [
      " toot\n"
     ]
    },
    {
     "data": {
      "text/plain": [
       "'Enchanted Forest\\nDear Lauren,\\nI am writing to you from a funny castle in an enchanted forest. I found myself here one day after\\ngoing for a ride on a yellow cat in bed. There are\\ncomfy duckies and funny mikes here! In the\\nbedroom there is a pool full of yoga mat\\\\. I fall asleep each night on a wine of\\nice cream and dream of loud cats. It feels as though I have lived here for\\n29 years. I hope one day you can visit, although the only way to get here now is\\nfarting on a cookoo toot!!'"
      ]
     },
     "execution_count": 59,
     "metadata": {},
     "output_type": "execute_result"
    }
   ],
   "source": [
    "s3 = \"\"\"Enchanted Forest\n",
    "Dear ______pn1__________,\n",
    "I am writing to you from a _____adj1___________ castle in an enchanted forest. I found myself here one day after\n",
    "going for a ride on a _______col1_________ ______animal1__________ in ______plc1__________. There are\n",
    "_______adj2_________ _______mc1_________ and ________adj3________ _______mc2_________ here! In the\n",
    "_____riah1___________ there is a pool full of ____noun1____________. I fall asleep each night on a _______noun2_________ of\n",
    "_____noun3___________ and dream of ____adj4____________ ______noun4__________. It feels as though I have lived here for\n",
    "_______num1_________ ________mot1________. I hope one day you can visit, although the only way to get here now is\n",
    "_______verb1_________ on a _______adj5_________ ______noun5__________!!\"\"\"\n",
    "\n",
    "\n",
    "\n",
    "print(\"I need a proper noun\")\n",
    "pn = input()\n",
    "s3 = s3.replace(\"______pn1__________\", pn)\n",
    "\n",
    "print(\"I need an adjective\")\n",
    "adj = input()\n",
    "s3 = s3.replace(\"_____adj1___________\", adj)\n",
    "\n",
    "print(\"I need a color\")\n",
    "col = input()\n",
    "s3 = s3.replace(\"_______col1_________\", col)\n",
    "\n",
    "print(\"I need an animal\")\n",
    "animal = input()\n",
    "s3 = s3.replace(\"______animal1__________\", animal)\n",
    "\n",
    "print(\"I need a place\")\n",
    "plc = input()\n",
    "s3 = s3.replace(\"______plc1__________\", plc)\n",
    "\n",
    "print(\"I need an adjective\")\n",
    "adj = input()\n",
    "s3 = s3.replace(\"_______adj2_________\", adj)\n",
    "\n",
    "print(\"I need a Magical Creature (Plural)\")\n",
    "mc = input()\n",
    "s3 = s3.replace(\"_______mc1_________\", mc)\n",
    "\n",
    "print(\"I need an adjective\")\n",
    "adj = input()\n",
    "s3 = s3.replace(\"________adj3________\", adj)\n",
    "\n",
    "print(\"I need a Magical Creature (Plural)\")\n",
    "mc = input()\n",
    "s3 = s3.replace(\"_______mc2_________\", mc)\n",
    "\n",
    "print(\"I need a room in a house\")\n",
    "riah = input()\n",
    "s3 = s3.replace(\"_____riah1___________\", riah)\n",
    "\n",
    "print(\"I need a noun\")\n",
    "noun = input()\n",
    "s3 = s3.replace(\"____noun1____________\", noun)\n",
    "\n",
    "print(\"I need a noun\")\n",
    "noun = input()\n",
    "s3 = s3.replace(\"_______noun2_________\", noun)\n",
    "\n",
    "print(\"I need a noun\")\n",
    "noun = input()\n",
    "s3 = s3.replace(\"_____noun3___________\", noun)\n",
    "\n",
    "print(\"I need a adjective\")\n",
    "adj = input()\n",
    "s3 = s3.replace(\"____adj4____________\", adj)\n",
    "\n",
    "print(\"I need a noun (plural)\")\n",
    "noun = input()\n",
    "s3 = s3.replace(\"______noun4__________\", noun)\n",
    "\n",
    "print(\"I need a number\")\n",
    "num = input()\n",
    "s3 = s3.replace(\"_______num1_________\", num)\n",
    "\n",
    "print(\"I need a Measure of time\")\n",
    "mot = input()\n",
    "s3 = s3.replace(\"________mot1________\", mot)\n",
    "\n",
    "print(\"I need a verb ending in ing\")\n",
    "verb = input()\n",
    "s3 = s3.replace(\"_______verb1_________\", verb)\n",
    "\n",
    "print(\"I need a adjective\")\n",
    "adj = input()\n",
    "s3 = s3.replace(\"_______adj5_________\", adj)\n",
    "\n",
    "print(\"I need a noun\")\n",
    "noun = input()\n",
    "s3 = s3.replace(\"______noun5__________\", noun)\n",
    "s3\n"
   ]
  },
  {
   "cell_type": "code",
   "execution_count": null,
   "metadata": {},
   "outputs": [],
   "source": [
    "1. Proper Noun (Person’s Name) ____________________________________________________\n",
    "2. Adjective ____________________________________________________________________\n",
    "3. Color _______________________________________________________________________\n",
    "4. Animal ______________________________________________________________________\n",
    "5. Place ________________________________________________________________________\n",
    "6. Adjective ____________________________________________________________________\n",
    "7. Magical Creature (Plural)________________________________________________________\n",
    "8. Adjective ____________________________________________________________________\n",
    "9. Magical Creature (Plural) ________________________________________________________\n",
    "10. Room in a House ______________________________________________________________\n",
    "11. Noun _______________________________________________________________________\n",
    "12. Noun _______________________________________________________________________\n",
    "13. Noun _______________________________________________________________________\n",
    "14. Adjective ____________________________________________________________________\n",
    "15. Noun (Plural)__________________________________________________________________\n",
    "16. Number _____________________________________________________________________\n",
    "17. Measure of time ______________________________________________________________\n",
    "18. Verb (ending in ing) ____________________________________________________________\n",
    "19. Adjective ____________________________________________________________________\n",
    "20. Noun _______________________________________________________________________"
   ]
  },
  {
   "cell_type": "code",
   "execution_count": null,
   "metadata": {},
   "outputs": [],
   "source": []
  },
  {
   "cell_type": "code",
   "execution_count": null,
   "metadata": {},
   "outputs": [],
   "source": []
  },
  {
   "cell_type": "markdown",
   "metadata": {},
   "source": [
    "## New Mad Lib Template\n",
    "---\n",
    "\n",
    "**Title: The Adventure of the _________**\n",
    "\n",
    "Once upon a time in a far-off land, there lived a brave young _________ named _________. One sunny morning, _________ woke up with a sense of _________ in their heart. They knew today was the day for an extraordinary adventure.\n",
    "\n",
    "As _________ stepped outside, they noticed the sky was a brilliant shade of _________. The air was filled with the sweet scent of _________, and the world seemed to be buzzing with _________. _________ took a deep breath, feeling _________, and began their journey.\n",
    "\n",
    "Their first stop was a _________ forest, where the trees stood tall and _________. The path was covered in _________ leaves, and _________ could hear the gentle rustling of the _________ in the breeze. With each step, _________ felt more and more _________.\n",
    "\n",
    "After hours of walking, _________ reached a breathtaking _________, with a view that stretched as far as the eye could see. They couldn't help but feel a sense of _________ at the sheer beauty of the world. _________ knew they were on the right path.\n",
    "\n",
    "But the journey was far from over. As the sun began to set, _________ found themselves in a mysterious _________, where the _________ cast eerie shadows. _________ could hear strange _________ in the distance, and the feeling of _________ grew stronger.\n",
    "\n",
    "Suddenly, _________ came face to face with a _________ creature that had never been seen before. With _________ determination, they used their _________ to solve the situation and continue their adventure.\n",
    "\n",
    "As the day turned into night, _________ couldn't help but think about all the incredible experiences they had encountered. They realized that life was full of surprises and that every moment was an opportunity for _________. With a heart full of _________, _________ continued their journey into the unknown.\n",
    "\n",
    "---\n",
    "\n",
    "\n",
    "\n",
    "**Parts of Speech:**\n",
    "1. Noun\n",
    "2. Name\n",
    "3. Verb\n",
    "4. Emotion\n",
    "5. Adjective\n",
    "6. Time of Day\n",
    "7. Color\n",
    "8. Smell\n",
    "9. Sound\n",
    "10. Feeling\n",
    "11. Adjective\n",
    "12. Nature Feature\n",
    "13. Adjective\n",
    "14. Noun\n",
    "15. Emotion\n",
    "16. Time of Day\n",
    "17. Place\n",
    "18. Noun\n",
    "19. Sound\n",
    "20. Emotion\n",
    "21. Creature\n",
    "22. Determination\n",
    "23. Tool\n",
    "24. Action\n",
    "25. Emotion\n",
    "26. Emotion"
   ]
  },
  {
   "cell_type": "code",
   "execution_count": null,
   "metadata": {},
   "outputs": [],
   "source": []
  },
  {
   "cell_type": "code",
   "execution_count": null,
   "metadata": {},
   "outputs": [],
   "source": []
  },
  {
   "cell_type": "code",
   "execution_count": null,
   "metadata": {},
   "outputs": [],
   "source": []
  },
  {
   "cell_type": "code",
   "execution_count": null,
   "metadata": {},
   "outputs": [],
   "source": []
  },
  {
   "cell_type": "code",
   "execution_count": 50,
   "metadata": {},
   "outputs": [
    {
     "ename": "SyntaxError",
     "evalue": "invalid syntax (<ipython-input-50-11d8a663c5eb>, line 1)",
     "output_type": "error",
     "traceback": [
      "\u001b[0;36m  File \u001b[0;32m\"<ipython-input-50-11d8a663c5eb>\"\u001b[0;36m, line \u001b[0;32m1\u001b[0m\n\u001b[0;31m    https://www.thepaintedturtle.org/sites/main/files/file-attachments/mad_libs.pdf\u001b[0m\n\u001b[0m           ^\u001b[0m\n\u001b[0;31mSyntaxError\u001b[0m\u001b[0;31m:\u001b[0m invalid syntax\n"
     ]
    }
   ],
   "source": [
    "https://www.thepaintedturtle.org/sites/main/files/file-attachments/mad_libs.pdf"
   ]
  },
  {
   "cell_type": "code",
   "execution_count": null,
   "metadata": {},
   "outputs": [],
   "source": [
    "MAD LIBS\n",
    "Get a friend or do this ridiculous word game on your own. Come\n",
    "up with words that fit with the parts of speech listed on this page.\n",
    "Then fill in the matching blanks on the next page to create a\n",
    "nonsensical story!\n",
    "1. Proper Noun (Person’s Name) ____________________________________________________\n",
    "2. Noun ________________________________________________________________________\n",
    "3. Adjective (Feeling) _____________________________________________________________\n",
    "4. Verb _________________________________________________________________________\n",
    "5. Adjective (Feeling) _____________________________________________________________\n",
    "6. Animal _______________________________________________________________________\n",
    "7. Verb _________________________________________________________________________\n",
    "8. Color ________________________________________________________________________\n",
    "9. Verb (ending in ing) _____________________________________________________________\n",
    "10. Adverb (ending in ly) ___________________________________________________________\n",
    "11. Number _____________________________________________________________________\n",
    "12. Measure of Time ______________________________________________________________\n",
    "13. Color _______________________________________________________________________\n",
    "14. Animal ______________________________________________________________________\n",
    "15. Number ____________________________________________________________________________\n",
    "16. Silly Word ___________________________________________________________________\n",
    "17. Noun _______________________________________________________________________\n",
    "MAD LIBS: A Camping We Will Go!\n",
    "This weekend I am going camping with ________________. I packed my lantern, sleeping bag, and\n",
    "________________. I am so ________________ to ________________ in a tent. I am ________________ we\n",
    "might see a ________________, they are kind of dangerous. We are going to hike, fish, and ________________.\n",
    "I have heard that the ________________ lake is great for ________________. Then we will\n",
    "________________hike through the forest for ________________ ________________. If I see a\n",
    "________________ ________________ while hiking, I am going to bring it home as a pet! At night we will tell\n",
    "________________ _______________ stories and roast ________________ around the campfire!!\n",
    " \n",
    "MAD LIBS\n",
    "Get a friend or do this ridiculous word game on your own. Come up with words that fit with the parts of speech\n",
    "listed on this page. Then fill in the matching blanks on the next page to create a nonsensical story!\n",
    "1. Number ______________________________________________________________________\n",
    "2. Measure of time _______________________________________________________________\n",
    "3. Mode of Transportation _________________________________________________________\n",
    "4. Adjective _____________________________________________________________________\n",
    "5. Adjective _____________________________________________________________________\n",
    "6. Noun ________________________________________________________________________\n",
    "7. Color ________________________________________________________________________\n",
    "8. Part of the Body _______________________________________________________________\n",
    "9. Verb _________________________________________________________________________\n",
    "10. Number _____________________________________________________________________\n",
    "11. Noun _______________________________________________________________________\n",
    "12. Noun _______________________________________________________________________\n",
    "13. Part of the Body _______________________________________________________________\n",
    "14. Verb ________________________________________________________________________\n",
    "15. Noun _______________________________________________________________________\n",
    "16. Adjective ____________________________________________________________________\n",
    "17. Silly Word ___________________________________________________________________\n",
    "18. Noun _______________________________________________________________________\n",
    "MAD LIBS: My Stay at the Hospital\n",
    "It was about ________________ ________________ ago when I came to the hospital in a ________________.\n",
    "The hospital is a/an ________________ place, there are a lot of ________________ ________________here.\n",
    "There are nurses here who have ______________ ________________. If someone wants to come into my room\n",
    "I told them that they have to ________________ first. I have decorated my room with ________________\n",
    "________________. Today a doctor came into my room and they were wearing a ________________ on their\n",
    "________________. I heard that all doctors ________________ ________________ every day for breakfast. The\n",
    "most ________________ thing about being in the hospital is the ________________ ________________!\n",
    "MAD LIBS\n",
    "Get a friend or do this ridiculous word game on your own. Come up with words that fit with the parts of speech\n",
    "listed on this page. Then fill in the matching blanks on the next page to create a nonsensical story!\n",
    "1. Proper Noun (Person’s Name) ____________________________________________________\n",
    "2. Adjective ____________________________________________________________________\n",
    "3. Color _______________________________________________________________________\n",
    "4. Animal ______________________________________________________________________\n",
    "5. Place ________________________________________________________________________\n",
    "6. Adjective ____________________________________________________________________\n",
    "7. Magical Creature (Plural)________________________________________________________\n",
    "8. Adjective ____________________________________________________________________\n",
    "9. Magical Creature (Plural) ________________________________________________________\n",
    "10. Room in a House ______________________________________________________________\n",
    "11. Noun _______________________________________________________________________\n",
    "12. Noun _______________________________________________________________________\n",
    "13. Noun _______________________________________________________________________\n",
    "14. Adjective ____________________________________________________________________\n",
    "15. Noun (Plural)__________________________________________________________________\n",
    "16. Number _____________________________________________________________________\n",
    "17. Measure of time ______________________________________________________________\n",
    "18. Verb (ending in ing) ____________________________________________________________\n",
    "19. Adjective ____________________________________________________________________\n",
    "20. Noun _______________________________________________________________________\n",
    "MAD LIBS: Enchanted Forest\n",
    "Dear ________________,\n",
    "I am writing to you from a ________________ castle in an enchanted forest. I found myself here one day after\n",
    "going for a ride on a ________________ ________________ in ________________. There are\n",
    "________________ ________________ and ________________ ________________ here! In the\n",
    "________________ there is a pool full of ________________. I fall asleep each night on a ________________ of\n",
    "________________ and dream of ________________ ________________. It feels as though I have lived here for\n",
    "________________ ________________. I hope one day you can visit, although the only way to get here now is\n",
    "________________ on a ________________ ________________!! \n",
    "Create your own MAD LIBS!\n",
    "Join in on the hilarious fun and write a MAD LIB of your own by following the steps\n",
    "below:\n",
    "1. Write a story that is 6-8 sentences long.\n",
    "2. Highlight a few of the key words in the story.\n",
    "3. Determine what part of speech those words are (noun, pronoun, verb, adjective, etc.).\n",
    "4. Remove those words from the story and leave a numbered blank space for write-ins.\n",
    "5. Create a key with the number and part of speech on a separate sheet of paper.\n",
    "6. Do a test run to make sure your story works.\n",
    "7. Share with your friends and family to see what nonsensical stories they come up with!"
   ]
  }
 ],
 "metadata": {
  "kernelspec": {
   "display_name": "Python 3",
   "language": "python",
   "name": "python3"
  },
  "language_info": {
   "codemirror_mode": {
    "name": "ipython",
    "version": 3
   },
   "file_extension": ".py",
   "mimetype": "text/x-python",
   "name": "python",
   "nbconvert_exporter": "python",
   "pygments_lexer": "ipython3",
   "version": "3.7.1"
  }
 },
 "nbformat": 4,
 "nbformat_minor": 4
}
