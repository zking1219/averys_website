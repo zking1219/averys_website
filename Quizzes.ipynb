{
 "cells": [
  {
   "cell_type": "markdown",
   "metadata": {},
   "source": [
    "# Quizzes App"
   ]
  },
  {
   "cell_type": "code",
   "execution_count": 1,
   "metadata": {},
   "outputs": [
    {
     "name": "stdout",
     "output_type": "stream",
     "text": [
      "Hi Avery, build your Quizzes App here\n"
     ]
    }
   ],
   "source": [
    "print(\"Hi Avery, build your Quizzes App here\")"
   ]
  },
  {
   "cell_type": "code",
   "execution_count": 3,
   "metadata": {},
   "outputs": [
    {
     "name": "stdout",
     "output_type": "stream",
     "text": [
      "the quiz\n"
     ]
    }
   ],
   "source": [
    "print(\"the quiz\")"
   ]
  },
  {
   "cell_type": "code",
   "execution_count": 5,
   "metadata": {},
   "outputs": [
    {
     "name": "stdout",
     "output_type": "stream",
     "text": [
      "when was i born\n",
      "march 7, january 12, december 16, august fartteeth\n",
      "\n",
      "how old am i\n",
      "10, 11, 12, 13\n",
      "\n",
      "how many pets do i have\n",
      "1,2,3,4\n",
      "\n",
      "what state was i born in\n",
      "california, virginia, new york,\n",
      "deleware\n",
      "\n",
      "what are my pet's names\n",
      "duckie, mike, leeloo, alise, ripley\n",
      "\n",
      "how many parents do i have\n",
      "1,2,3,4\n",
      "\n",
      "did i just get a new car\n",
      "yes, no\n",
      "\n",
      "did i just get a new house\n",
      "yes, no\n",
      "\n",
      "what grade am i in\n",
      "6\n",
      "\n",
      "do i have a phone\n",
      "no, yes\n",
      "\n",
      "does my stepdad fart a lot\n",
      "YES, no\n"
     ]
    }
   ],
   "source": [
    "print(\"\"\"when was i born\n",
    "march 7, january 12, december 16, august fartteeth\n",
    "\n",
    "how old am i\n",
    "10, 11, 12, 13\n",
    "\n",
    "how many pets do i have\n",
    "1,2,3,4\n",
    "\n",
    "what state was i born in\n",
    "california, virginia, new york,\n",
    "deleware\n",
    "\n",
    "what are my pet's names\n",
    "duckie, mike, leeloo, alise, ripley\n",
    "\n",
    "how many parents do i have\n",
    "1,2,3,4\n",
    "\n",
    "did i just get a new car\n",
    "yes, no\n",
    "\n",
    "did i just get a new house\n",
    "yes, no\n",
    "\n",
    "what grade am i in\n",
    "6\n",
    "\n",
    "do i have a phone\n",
    "no, yes\n",
    "\n",
    "does my stepdad fart a lot\n",
    "YES, no\"\"\")"
   ]
  },
  {
   "cell_type": "code",
   "execution_count": null,
   "metadata": {},
   "outputs": [],
   "source": []
  }
 ],
 "metadata": {
  "kernelspec": {
   "display_name": "Python 3",
   "language": "python",
   "name": "python3"
  },
  "language_info": {
   "codemirror_mode": {
    "name": "ipython",
    "version": 3
   },
   "file_extension": ".py",
   "mimetype": "text/x-python",
   "name": "python",
   "nbconvert_exporter": "python",
   "pygments_lexer": "ipython3",
   "version": "3.7.1"
  }
 },
 "nbformat": 4,
 "nbformat_minor": 4
}
